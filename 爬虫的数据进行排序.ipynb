{
 "cells": [
  {
   "cell_type": "code",
   "execution_count": 7,
   "metadata": {
    "scrolled": true
   },
   "outputs": [
    {
     "name": "stdout",
     "output_type": "stream",
     "text": [
      "['1\\t星际牛仔\\t26话 /  1998年10月23日 / 渡辺信一郎 / 矢立肇 / 川元利浩\\t9.1\\t(4715人评分)', '2\\t攻壳机动队 S.A.C. 2nd GIG\\t26话 /  2004年1月1日 / 神山健治 / 士郎正宗\\t9.1\\t(2895人评分)', '3\\t攻壳机动队 STAND ALONE COMPLEX\\t26话 /  2002年10月1日 / 神山健治 / 士郎正宗 / 下村一\\t9.0\\t(3664人评分)', \"4\\tCLANNAD ～AFTER STORY～\\t24话 /  2008年10月2日 / 石原立也 / Key、Visual Art's / 池田和美\\t8.9\\t(8313人评分)\", '5\\t新世纪福音战士\\t26话 /  1995年10月4日 / 庵野秀明 / GAINAX / 貞本義行\\t8.9\\t(9622人评分)']\n"
     ]
    }
   ],
   "source": [
    "#用之前看一下数据有没有空行. 一个列表的元素里空会错误\n",
    "#爬虫文件F:\\data\\data.txt排序输出到F:\\data\\data_new.txt\n",
    "import re\n",
    "with open(\"F:\\data\\data.txt\",'r+',encoding='UTF-8') as p:\n",
    "    data = p.read()\n",
    "    #删除最右边回车\n",
    "    data = data.rstrip('\\n')\n",
    "    #按回车拆成列表\n",
    "    data = data.split('\\n')\n",
    "    data_dict = {}\n",
    "    print(data[:1])\n",
    "    for i in data:\n",
    "        i = i.split('\\t')\n",
    "        data_dict[int(i[0])] = str(i[1]) + '\\t' + str(i[2]) + '\\t' + str(i[3]) + '\\t' + str(i[4])\n",
    "    for a ,b in sorted(data_dict.items()):\n",
    "        data = str(a) + \"\\t\" + str(b) + \"\\n\"\n",
    "        with open(\"F:\\data\\data_new.txt\",\"a+\",encoding='UTF-8') as o:\n",
    "            o.write(data)"
   ]
  },
  {
   "cell_type": "code",
   "execution_count": 19,
   "metadata": {},
   "outputs": [
    {
     "name": "stdout",
     "output_type": "stream",
     "text": [
      "['1\\t星际牛仔\\t26话 /  1998年10月23日 / 渡辺信一郎 / 矢立肇 / 川元利浩\\t9.1\\t(4715人评分)']\n",
      "排名空缺120\n",
      "排名空缺132\n",
      "排名空缺134\n",
      "排名空缺182\n",
      "排名空缺296\n",
      "排名空缺358\n",
      "排名空缺377\n",
      "排名空缺381\n",
      "排名空缺523\n",
      "排名空缺745\n"
     ]
    }
   ],
   "source": [
    "#查看爬虫数据爬完缺少的内容\n",
    "import re\n",
    "with open(\"F:\\data\\data.txt\",'r+',encoding='UTF-8') as p:\n",
    "    data = p.read()\n",
    "    #删除最右边回车\n",
    "    data = data.rstrip('\\n')\n",
    "    #按回车拆成列表\n",
    "    data = data.split('\\n')\n",
    "    print(data[:1])\n",
    "    for i in data:\n",
    "        i = i.split('\\t')\n",
    "        data_dict[int(i[0])] = str(i[1]) + '\\t' + str(i[2]) + '\\t' + str(i[3]) + '\\t' + str(i[4])\n",
    "    for i in range(1,1019):\n",
    "        try:\n",
    "            data_dict[i]\n",
    "        except Exception:\n",
    "            print('排名空缺'+ str(i))"
   ]
  },
  {
   "cell_type": "code",
   "execution_count": 16,
   "metadata": {},
   "outputs": [],
   "source": []
  },
  {
   "cell_type": "code",
   "execution_count": 36,
   "metadata": {},
   "outputs": [
    {
     "data": {
      "text/plain": [
       "1"
      ]
     },
     "execution_count": 36,
     "metadata": {},
     "output_type": "execute_result"
    }
   ],
   "source": []
  },
  {
   "cell_type": "code",
   "execution_count": 40,
   "metadata": {},
   "outputs": [
    {
     "data": {
      "text/plain": [
       "[('baba', 4), ('nana', 13), ('lili', 25)]"
      ]
     },
     "execution_count": 40,
     "metadata": {},
     "output_type": "execute_result"
    }
   ],
   "source": []
  },
  {
   "cell_type": "code",
   "execution_count": 67,
   "metadata": {},
   "outputs": [
    {
     "data": {
      "text/plain": [
       "[(1, 'aaaa'), (2, 'asdasd'), (11, 'asdasd')]"
      ]
     },
     "execution_count": 67,
     "metadata": {},
     "output_type": "execute_result"
    }
   ],
   "source": []
  },
  {
   "cell_type": "code",
   "execution_count": 66,
   "metadata": {},
   "outputs": [
    {
     "name": "stdout",
     "output_type": "stream",
     "text": [
      "['d', 'e', 'a', 'b', 'c', 'f']\n"
     ]
    }
   ],
   "source": []
  },
  {
   "cell_type": "code",
   "execution_count": null,
   "metadata": {
    "collapsed": true
   },
   "outputs": [],
   "source": []
  }
 ],
 "metadata": {
  "kernelspec": {
   "display_name": "Python [conda root]",
   "language": "python",
   "name": "conda-root-py"
  },
  "language_info": {
   "codemirror_mode": {
    "name": "ipython",
    "version": 3
   },
   "file_extension": ".py",
   "mimetype": "text/x-python",
   "name": "python",
   "nbconvert_exporter": "python",
   "pygments_lexer": "ipython3",
   "version": "3.6.1"
  }
 },
 "nbformat": 4,
 "nbformat_minor": 2
}
