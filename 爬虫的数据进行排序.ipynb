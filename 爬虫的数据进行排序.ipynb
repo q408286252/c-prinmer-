{
 "cells": [
  {
   "cell_type": "code",
   "execution_count": 1,
   "metadata": {
    "scrolled": true
   },
   "outputs": [
    {
     "name": "stdout",
     "output_type": "stream",
     "text": [
      "['1\\t星际牛仔\\t26话 /  1998年10月23日 / 渡辺信一郎 / 矢立肇 / 川元利浩\\t9.1\\t(4715人评分)']\n"
     ]
    }
   ],
   "source": [
    "'''\n",
    "txt文件整理用之前看一下数据有没有空行. 一个列表的元素里空会错误\n",
    "\\n回车分行   每行第一列必须是数字  '\\t'拆分每列\n",
    "爬虫文件F:\\data\\data.txt排序输出到F:\\data\\data_new.txt\n",
    "'''\n",
    "import re\n",
    "with open(\"F:\\data\\data.txt\",'r+',encoding='UTF-8') as p:\n",
    "    data = p.read()\n",
    "    #删除最右边回车\n",
    "    data = data.rstrip('\\n')\n",
    "    #按回车拆成列表\n",
    "    data = data.split('\\n')\n",
    "    data_dict = {}\n",
    "    print(data[:1])\n",
    "    for i in data:\n",
    "        i = i.split('\\t')\n",
    "        data_dict[int(i[0])] = str(i[1]) + '\\t' + str(i[2]) + '\\t' + str(i[3]) + '\\t' + str(i[4])\n",
    "    for a ,b in sorted(data_dict.items()):\n",
    "        data = str(a) + \"\\t\" + str(b) + \"\\n\"\n",
    "        with open(\"F:\\data\\data_new.txt\",\"a+\",encoding='UTF-8') as o:\n",
    "            o.write(data)"
   ]
  },
  {
   "cell_type": "code",
   "execution_count": 19,
   "metadata": {},
   "outputs": [
    {
     "name": "stdout",
     "output_type": "stream",
     "text": [
      "['1\\t星际牛仔\\t26话 /  1998年10月23日 / 渡辺信一郎 / 矢立肇 / 川元利浩\\t9.1\\t(4715人评分)']\n",
      "排名空缺120\n",
      "排名空缺132\n",
      "排名空缺134\n",
      "排名空缺182\n",
      "排名空缺296\n",
      "排名空缺358\n",
      "排名空缺377\n",
      "排名空缺381\n",
      "排名空缺523\n",
      "排名空缺745\n"
     ]
    }
   ],
   "source": [
    "''''\n",
    "查看爬虫数据txt是否爬完漏了某些行内容\n",
    "''''\n",
    "import re\n",
    "with open(\"F:\\data\\data.txt\",'r+',encoding='UTF-8') as p:\n",
    "    data = p.read()\n",
    "    #删除最右边回车\n",
    "    data = data.rstrip('\\n')\n",
    "    #按回车拆成列表\n",
    "    data = data.split('\\n')\n",
    "    print(data[:1])\n",
    "    for i in data:\n",
    "        i = i.split('\\t')\n",
    "        data_dict[int(i[0])] = str(i[1]) + '\\t' + str(i[2]) + '\\t' + str(i[3]) + '\\t' + str(i[4])\n",
    "    for i in range(1,1019):\n",
    "        try:\n",
    "            data_dict[i]\n",
    "        except Exception:\n",
    "            print('排名空缺'+ str(i))"
   ]
  },
  {
   "cell_type": "code",
   "execution_count": 52,
   "metadata": {},
   "outputs": [
    {
     "name": "stdout",
     "output_type": "stream",
     "text": [
      "显示有多少行内容:984\n"
     ]
    }
   ],
   "source": [
    "'''\n",
    "读取json文件 然后按集数分类 然后再按年份分类'''\n",
    "import json\n",
    "with open(\"F:/data/github/scrapy/bangumi/tutorial/items.json\",'r+',) as p:\n",
    "    data_list = json.load(p,encoding='UTF-8')\n",
    "    data_new = [[],[],[]]\n",
    "    #print(data_list[:5])\n",
    "    print('显示有多少行内容:'+ str(len(data_list)))\n",
    "    for i in range(0,len(data_list)):\n",
    "        pass\n",
    "    #按6话分电影和连续剧\n",
    "    for i in range(0,len(data_list)):\n",
    "        try:\n",
    "            #如果列表第一个元素 去掉左右空格和 '话'的集数 大于等于6则\n",
    "            #取出第i元素 标签内容取出 用/拆分然后取第一个 清空格 和右侧'话'\n",
    "            if int(data_list[i]['data_text'].split('/')[0].strip().rstrip('话')) >= 6:\n",
    "                data_new[0].append(data_list[i])\n",
    "            #小于6的则\n",
    "            elif int(data_list[i]['data_text'].split('/')[0].strip().rstrip('话')) < 6:\n",
    "                data_new[1].append(data_list[i])\n",
    "        except Exception:\n",
    "            #在列表第三个元素放入\n",
    "            data_new[2].append(data_list[i])\n",
    "json.dump(data_new[0],open(\"F:\\data\\长篇.json\",\"w+\"))\n",
    "json.dump(data_new[1],open(\"F:\\data\\短篇.json\",\"w+\"))\n",
    "json.dump(data_new[2],open(\"F:\\data\\未分类.json\",\"w+\"))\n",
    "#还差手动分类一下\n",
    "# 然后分类后按年份 2009年-2018年 和 之前"
   ]
  },
  {
   "cell_type": "code",
   "execution_count": null,
   "metadata": {},
   "outputs": [],
   "source": []
  },
  {
   "cell_type": "code",
   "execution_count": null,
   "metadata": {},
   "outputs": [],
   "source": []
  },
  {
   "cell_type": "code",
   "execution_count": null,
   "metadata": {},
   "outputs": [],
   "source": []
  },
  {
   "cell_type": "code",
   "execution_count": null,
   "metadata": {},
   "outputs": [],
   "source": []
  },
  {
   "cell_type": "code",
   "execution_count": null,
   "metadata": {},
   "outputs": [],
   "source": []
  },
  {
   "cell_type": "code",
   "execution_count": null,
   "metadata": {
    "collapsed": true
   },
   "outputs": [],
   "source": []
  }
 ],
 "metadata": {
  "kernelspec": {
   "display_name": "Python [conda root]",
   "language": "python",
   "name": "conda-root-py"
  },
  "language_info": {
   "codemirror_mode": {
    "name": "ipython",
    "version": 3
   },
   "file_extension": ".py",
   "mimetype": "text/x-python",
   "name": "python",
   "nbconvert_exporter": "python",
   "pygments_lexer": "ipython3",
   "version": "3.6.1"
  }
 },
 "nbformat": 4,
 "nbformat_minor": 2
}
