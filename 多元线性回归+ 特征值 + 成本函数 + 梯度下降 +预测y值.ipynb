{
 "cells": [
  {
   "cell_type": "code",
   "execution_count": 23,
   "metadata": {
    "scrolled": false
   },
   "outputs": [
    {
     "name": "stdout",
     "output_type": "stream",
     "text": [
      "X前5个数据 [[100   4]\n",
      " [ 50   3]\n",
      " [100   4]\n",
      " [100   2]\n",
      " [ 50   2]] \n",
      "\n",
      "Y前5个数据 [[ 9.3]\n",
      " [ 4.8]\n",
      " [ 8.9]\n",
      " [ 6.5]\n",
      " [ 4.2]] \n",
      "\n",
      "x样本数为:10 \n",
      "y样本数为:10 \n",
      "\n",
      "这是个线性系数的值: [[-0.86870147]\n",
      " [ 0.0611346 ]\n",
      " [ 0.92342537]] \n",
      "\n",
      "显示残差^2 /样本量: [[ 0.98458659]] \n",
      "\n",
      "偏差导数系数: [[ -7.99076361e-11]\n",
      " [ -2.78443935e-12]] -9.467981954e-13\n",
      "偏差导数系数: [[ -2.63185029e-11]\n",
      " [ -9.24593735e-13]] -3.10862446895e-13\n",
      "偏差导数系数: [[ -7.98650035e-12]\n",
      " [ -2.85105273e-13]] -9.41469124882e-14\n",
      "偏差导数系数: [[ -2.72848411e-12]\n",
      " [ -1.02140518e-13]] -3.10862446895e-14\n",
      "偏差导数系数: [[ -6.53699317e-13]\n",
      " [ -3.01980663e-14]] -7.1054273576e-15\n",
      "偏差导数系数: [[ -3.41060513e-13]\n",
      " [ -1.95399252e-14]] -2.6645352591e-15\n",
      "偏差导数系数: [[ -3.41060513e-13]\n",
      " [ -1.95399252e-14]] -2.6645352591e-15\n",
      "偏差导数系数: [[ -3.41060513e-13]\n",
      " [ -1.95399252e-14]] -2.6645352591e-15\n",
      "偏差导数系数: [[ -3.41060513e-13]\n",
      " [ -1.95399252e-14]] -2.6645352591e-15\n",
      "偏差导数系数: [[ -3.41060513e-13]\n",
      " [ -1.95399252e-14]] -2.6645352591e-15\n",
      "梯度下降更新后 新的theta的值 [[-0.86870147]\n",
      " [ 0.0611346 ]\n",
      " [ 0.92342537]] \n",
      "\n",
      "预测均值: [[ 6.48666954]\n",
      " [ 8.93845988]] \n",
      "预测95%可能性数值范围 [array([[ 5.60206265],\n",
      "       [ 8.05385298]]), array([[ 7.37127644],\n",
      "       [ 9.82306678]])] \n",
      "预测98%可能性数值范围 [array([[ 5.38225124],\n",
      "       [ 7.83404157]]), array([[  7.59108785],\n",
      "       [ 10.04287819]])] \n",
      "预测99%可能性数值范围 [array([[ 5.23749738],\n",
      "       [ 7.68928772]]), array([[  7.73584171],\n",
      "       [ 10.18763204]])]\n"
     ]
    }
   ],
   "source": [
    "import numpy as np\n",
    "import pandas as pd\n",
    "\n",
    "#上面代码修改过写的是读取csv文件 查看开头说明找出y的值列表变矩阵 找出x列表值变矩阵\n",
    "def readData(way,x_list_logo,y_logo,show = 0,sample_amount = 1): #这是一个取二元自变量和因变量的函数\n",
    "    data = pd.read_csv(way)\n",
    "    y=data.loc[:, y_logo].as_matrix(columns=None)#删掉标签,取出标签time的所有数据保存为列表\n",
    "    y=np.array([y]).T\n",
    "\n",
    "    x=data.drop(y_logo, 1)  #吧数据库标签time的一列删除保存到x\n",
    "    x_list = []\n",
    "    for x_alone_logo in x_list_logo:\n",
    "        x_list.append(x.loc[:,x_alone_logo].as_matrix(columns=None))  #删掉标签保存为列表\n",
    "    x = np.array(x_list).T\n",
    "    m = y.shape[0]\n",
    "    if show == 1:\n",
    "        print(\"X前5个数据\" ,x[:][:5]  ,\"\\n\")\n",
    "        print(\"Y前5个数据\" ,y[:][:5]  ,\"\\n\")\n",
    "    if sample_amount == 1:\n",
    "        print('x样本数为:%d \\ny样本数为:%d'%(len(x[:][:]),len(y[:][:])) ,\"\\n\")\n",
    "    return(x,y,data)\n",
    "\n",
    "#算自变量 Z值均值以及标准差\n",
    "def featureNormalize(X):\n",
    "    X_norm = X;\n",
    "    X_jun = np.zeros((1,X.shape[1]))\n",
    "    #输出行1,列为x;列值全为0的数组\n",
    "    S_x = np.zeros((1,X.shape[1]))\n",
    "    #输出行1,列为x;列值全为0的数组\n",
    "    for i in range(X.shape[1]):\n",
    "        X_jun[0,i] = np.mean(X[:,i])       # 均值\n",
    "        S_x[0,i] = np.std(X[:,i])     # 标准差\n",
    "    X_Z  = (X - X_jun) / S_x   #X数组的Z值\n",
    "    return X_Z,X_jun,S_x\n",
    "\n",
    "#求线性方程各系数值 θ0,θ1,θ2 .....\n",
    "def exportTheta(X,Y):\n",
    "    X = np.hstack((np.ones((X.shape[0] , 1)),X))  #给X数组左侧添加一列全1\n",
    "    X = np.mat(X)  #X数组转为矩阵\n",
    "    theta = np.dot(X.I,Y) #X的逆矩阵  矩阵乘法 Y = 各系数\n",
    "    theta = theta.getA()\n",
    "    return(theta)\n",
    "\n",
    "#1/2的最小二乘损失函数 和 成本函数   1/2(y冒 - y)^2 求和 * 1/m  =1/2m  ∑上M下i=1(y冒下i - y下i)^2\n",
    "def computeCost(X, Y, theta):\n",
    "    m = Y.shape[0] # m = 样本数\n",
    "    B = np.array([[int(theta[0]) for x in range(0,m)]]).T #生成1*m列值为theta第一行值组成数组\n",
    "    theta_x = theta[1:,:]\n",
    "    epsilon = X.dot(theta_x)+ B - Y   # ε = 算残差 = y冒-y = a1*x1+a2*x2+a0 -y\n",
    "    J_min = (epsilon.T.dot(epsilon))/ (2*m)   #残差平方之和/样本数\n",
    "    return J_min\n",
    "\n",
    "#梯度下降\n",
    "def gradientDescent(X, Y, theta, alpha, iterations, show = 0, show_a_time = 1):\n",
    "    theta_new = theta.copy()\n",
    "    m = Y.shape[0]       #样本数\n",
    "    # 存储历史误差\n",
    "    J_history = np.zeros((iterations, 1)) #梯度次数 * 1 的全0数组\n",
    "    for a in range(iterations):\n",
    "        B = np.array([[theta[0].tolist()[0] for x in range(0,m)]]).T #生成1*m列值为theta第一行值组成数组\n",
    "        # θ = θ - α / m * X^T 矩阵乘法 (X矩阵乘法θ+B-Y)    单元素为θ下j = θ下j - α / m * ε下i *X下ij\n",
    "        theta_new[1:,:] = theta_new[1:,:] - (alpha/m) * np.dot( X.T, np.dot( X, theta_new[1:,:])+B -Y) \n",
    "        # θ0 = θ0 - α / m *   求和上m下1(单样本残差)\n",
    "        theta_new[:1,:] = theta_new[:1,:] - (alpha/m) * (X.dot(theta_new[1:,:]) + B - Y).sum()\n",
    "        J_history[a] = computeCost(X, Y, theta_new)\n",
    "        if show == 1 and a%show_a_time == 0:\n",
    "            print( \"偏差导数系数:\",np.dot( X.T, np.dot( X, theta_new[1:,:])+B -Y) , (X.dot(theta_new[1:,:]) + B - Y).sum() )\n",
    "    return J_history,theta_new\n",
    "\n",
    "#算估计的标准误差\n",
    "def sampleYStandardDeviation( X, Y, theta_new ):\n",
    "    X = np.hstack([np.ones((X.shape[0], 1)), X]) #数组左侧添加一列全1\n",
    "    #1)误差平方 2)求和 3)除 4)分母为样本量-2 5)算完开根\n",
    "    s_sample = ( ((X.dot(theta_new) - Y)**2).sum() / (X.shape[0]-2) )**0.5\n",
    "    return s_sample\n",
    "\n",
    "#预测y值得范围\n",
    "def predict(data, s_sample):\n",
    "    data = np.array(data) #全部数据 输出成数组\n",
    "    data = np.hstack([np.ones((data.shape[0], 1)), data]) #数组左侧添加一列全1\n",
    "    Y_mao = data.dot(theta_new) #算出y冒值\n",
    "    Y_95 = [Y_mao - 1.65*s_sample ,Y_mao + 1.65*s_sample]\n",
    "    Y_98 = [Y_mao - 2.06*s_sample ,Y_mao + 2.06*s_sample]\n",
    "    Y_99 = [Y_mao - 2.33*s_sample ,Y_mao + 2.33*s_sample]\n",
    "    print(\"预测均值:\", Y_mao, \"\\n预测95%可能性数值范围\" , Y_95, '\\n预测98%可能性数值范围' , Y_98,\"\\n预测99%可能性数值范围\", Y_99)\n",
    "\n",
    "    \n",
    "\n",
    "    \n",
    "\n",
    "#路径,x标签列表,y标签, show 0,1表示是否显示x和y前五行,sample_amount显示x,y样本数\n",
    "X,Y,data =readData('E:\\\\ml.csv',['lucheng','cishu'],'time',show = 1,sample_amount = 1)\n",
    "#读取csv文件\n",
    "\n",
    "#求特征值: 求X数组的Z值, X每列均值, X每列标准差\n",
    "X_Z,X_jun,S_x = featureNormalize(X)\n",
    "\n",
    "#求theta的值 :θ\n",
    "theta = exportTheta(X,Y) #分别为多元回归公式θ0,θ1,θ2 ...  theta中文为Θ θ\n",
    "print('这是个线性系数的值:' , theta ,\"\\n\")\n",
    "\n",
    "J_min = computeCost(X,Y,theta)   #j = 残差平方之和/ 2样本数\n",
    "print('显示残差^2 /样本量:' , J_min*2 ,\"\\n\")\n",
    "\n",
    "#这里有个注意的地方 学习率写的过大会导致 偏差成指数形式增长 多次迭代偏差越来越大\n",
    "#alpha学习率  iterations迭代次数  show是否显示偏差导数系数0不1是 show_a_time多少次迭代显示一次\n",
    "J_history,theta_new = gradientDescent(X, Y, theta, alpha = 0.0001, iterations = 10, show = 1, show_a_time = 1) \n",
    "print('梯度下降更新后 新的theta的值',theta_new ,\"\\n\")\n",
    "\n",
    "#算估计的标准误差\n",
    "s_sample = sampleYStandardDeviation( X, Y, theta_new )\n",
    "\n",
    "#给出x值和估计的标准误差 求y范围\n",
    "predict([[75,3],[100,4]],s_sample)"
   ]
  },
  {
   "cell_type": "code",
   "execution_count": 4,
   "metadata": {},
   "outputs": [
    {
     "data": {
      "text/plain": [
       "'\\n#log损失函数标准形式  二分法 y只有0或1\\n单个损失: F(y冒,y) = -(y * log下未知上y冒 + (1-y) * log下未知上(1-y冒) )\\n平均损失: J(w,b) = 1/m m之和 F(y冒,y)\\nw为各自变量生成的矩阵 b为所有a0矩阵\\n'"
      ]
     },
     "execution_count": 4,
     "metadata": {},
     "output_type": "execute_result"
    }
   ],
   "source": [
    "''' 想写的公式\n",
    "#log损失函数标准形式  二分法 y只有0或1\n",
    "单个损失: F(y冒,y) = -(y * log下未知上y冒 + (1-y) * log下未知上(1-y冒) )\n",
    "平均损失: J(w,b) = 1/m m之和 F(y冒,y)\n",
    "w为各自变量生成的矩阵 b为所有a0矩阵\n",
    "'''"
   ]
  },
  {
   "cell_type": "code",
   "execution_count": 5,
   "metadata": {},
   "outputs": [
    {
     "data": {
      "text/plain": [
       "\" txt加载数据没看\\n#加载数据\\ndef load_exdata(filename):\\n    data = []\\n    with open(filename, 'r') as f:\\n        for line in f.readlines():\\n            line = line.split(',')\\n            current = [int(item) for item in line]\\n            #5.5277,9.1302\\n            data.append(current)\\n    return data\\n \\ndata = load_exdata('ex1data2.txt');\\ndata = np.array(data,np.int64)\\n \\nx = data[:,(0,1)].reshape((-1,2))\\ny = data[:,2].reshape((-1,1))\\nm = y.shape[0]\\n \\n# Print out some data points\\nprint('First 10 examples from the dataset: \\n')\\nprint(' x = ',x[range(10),:],'\\ny=',y[range(10),:])\\n\""
      ]
     },
     "execution_count": 5,
     "metadata": {},
     "output_type": "execute_result"
    }
   ],
   "source": [
    "''' \n",
    "txt加载数据没看\n",
    "#加载数据\n",
    "def load_exdata(filename):\n",
    "    data = []\n",
    "    with open(filename, 'r') as f:\n",
    "        for line in f.readlines():\n",
    "            line = line.split(',')\n",
    "            current = [int(item) for item in line]\n",
    "            #5.5277,9.1302\n",
    "            data.append(current)\n",
    "    return data\n",
    " \n",
    "data = load_exdata('ex1data2.txt');\n",
    "data = np.array(data,np.int64)\n",
    " \n",
    "x = data[:,(0,1)].reshape((-1,2))\n",
    "y = data[:,2].reshape((-1,1))\n",
    "m = y.shape[0]\n",
    " \n",
    "# Print out some data points\n",
    "print('First 10 examples from the dataset: \\n')\n",
    "print(' x = ',x[range(10),:],'\\ny=',y[range(10),:])\n",
    "'''"
   ]
  },
  {
   "cell_type": "code",
   "execution_count": 8,
   "metadata": {},
   "outputs": [
    {
     "data": {
      "text/plain": [
       "0.53612539178857099"
      ]
     },
     "execution_count": 8,
     "metadata": {},
     "output_type": "execute_result"
    }
   ],
   "source": [
    "X1 = np.hstack([np.ones((X.shape[0], 1)), X]) #数组左侧添加一列全1\n",
    "( ((X1.dot(theta_new) - Y)**2).sum() / (X.shape[0]-2) )**0.5"
   ]
  },
  {
   "cell_type": "code",
   "execution_count": 19,
   "metadata": {},
   "outputs": [
    {
     "data": {
      "text/plain": [
       "array([-86.87014668,  -4.34350733])"
      ]
     },
     "execution_count": 19,
     "metadata": {},
     "output_type": "execute_result"
    }
   ],
   "source": []
  },
  {
   "cell_type": "code",
   "execution_count": 45,
   "metadata": {},
   "outputs": [
    {
     "data": {
      "text/plain": [
       "array([[-0.86870147]])"
      ]
     },
     "execution_count": 45,
     "metadata": {},
     "output_type": "execute_result"
    }
   ],
   "source": [
    "theta[:1,:]"
   ]
  },
  {
   "cell_type": "code",
   "execution_count": 62,
   "metadata": {},
   "outputs": [
    {
     "data": {
      "text/plain": [
       "1.4142135623730951"
      ]
     },
     "execution_count": 62,
     "metadata": {},
     "output_type": "execute_result"
    }
   ],
   "source": [
    "2**0.5"
   ]
  },
  {
   "cell_type": "code",
   "execution_count": 12,
   "metadata": {},
   "outputs": [
    {
     "data": {
      "text/plain": [
       "10"
      ]
     },
     "execution_count": 12,
     "metadata": {},
     "output_type": "execute_result"
    }
   ],
   "source": [
    "a=5\n",
    "b=10\n",
    "a =[a,b]\n",
    "b = a[1]\n",
    "a= a[0]\n",
    "b"
   ]
  },
  {
   "cell_type": "code",
   "execution_count": null,
   "metadata": {
    "collapsed": true
   },
   "outputs": [],
   "source": []
  }
 ],
 "metadata": {
  "kernelspec": {
   "display_name": "Python [conda root]",
   "language": "python",
   "name": "conda-root-py"
  },
  "language_info": {
   "codemirror_mode": {
    "name": "ipython",
    "version": 3
   },
   "file_extension": ".py",
   "mimetype": "text/x-python",
   "name": "python",
   "nbconvert_exporter": "python",
   "pygments_lexer": "ipython3",
   "version": "3.6.1"
  }
 },
 "nbformat": 4,
 "nbformat_minor": 2
}
